{
 "cells": [
  {
   "cell_type": "code",
   "execution_count": 1,
   "metadata": {},
   "outputs": [
    {
     "data": {
      "text/plain": [
       "'\\nThis file is designed for the homework 1 of AIT 736;\\nAuthor: Xu He\\nDate: 2019.Sep.15\\nContent: KNN algorithm for classifying English letter.\\n'"
      ]
     },
     "execution_count": 1,
     "metadata": {},
     "output_type": "execute_result"
    }
   ],
   "source": [
    "'''\n",
    "This file is designed for the homework 1 of AIT 736;\n",
    "Author: Xu He\n",
    "Date: 2019.Sep.15\n",
    "Content: KNN algorithm for classifying English letter.\n",
    "'''"
   ]
  },
  {
   "cell_type": "code",
   "execution_count": 12,
   "metadata": {},
   "outputs": [],
   "source": [
    "import numpy as np\n",
    "import pandas as pd\n",
    "from sklearn.model_selection import train_test_split\n",
    "# read data from document\n",
    "filename = 'letter-recognition.csv'\n",
    "col_name = ['label','f0','f1','f2','f3','f4','f5','f6','f7','f8','f9','f10','f11','f12','f13','f14','f15']\n",
    "data = pd.read_csv(filename,',',None,None,col_name)\n",
    "#data.head()\n",
    "\n",
    "# reshape data\n",
    "#labelvecotr = np.array(data['label'])\n",
    "#featurename = col_name[1:]\n",
    "#featurematrix = np.array(data[featurename])\n",
    "#print(labelvecotr[0:5])\n",
    "#print(featurematrix[0:5])\n",
    "\n",
    "# divide the whole data into trainning data and test data\n",
    "# for trainning data\n"
   ]
  },
  {
   "cell_type": "code",
   "execution_count": 13,
   "metadata": {},
   "outputs": [],
   "source": [
    "label,feature = data.iloc[:,0],data.iloc[:,1:]\n",
    "label_train,label_test,fea_train,fea_test = train_test_split(label,feature,test_size = 0.25)"
   ]
  },
  {
   "cell_type": "code",
   "execution_count": 14,
   "metadata": {},
   "outputs": [
    {
     "name": "stdout",
     "output_type": "stream",
     "text": [
      "0.9476\n"
     ]
    }
   ],
   "source": [
    "from sklearn.neighbors import KNeighborsClassifier\n",
    "from sklearn.model_selection import cross_val_score\n",
    "knn_model = KNeighborsClassifier(n_neighbors=2)\n",
    "knn_model.fit(fea_train,label_train)\n",
    "score = knn_model.score(fea_test,label_test)\n",
    "print(score)\n",
    "#result = cross_val_score(knn_model,feature,label,cv=10)"
   ]
  },
  {
   "cell_type": "code",
   "execution_count": 15,
   "metadata": {},
   "outputs": [],
   "source": [
    "#print(result)\n",
    "#print(result.mean())"
   ]
  },
  {
   "cell_type": "code",
   "execution_count": 16,
   "metadata": {},
   "outputs": [],
   "source": [
    "from imblearn.under_sampling import CondensedNearestNeighbour\n",
    "\n",
    "# Apply Condensed Nearest Neighbours\n",
    "cnn = CondensedNearestNeighbour(return_indices=True)\n",
    "X_resampled, Y_resampled, idx_resampled = cnn.fit_sample(fea_train, label_train)"
   ]
  },
  {
   "cell_type": "code",
   "execution_count": 17,
   "metadata": {},
   "outputs": [
    {
     "name": "stdout",
     "output_type": "stream",
     "text": [
      "[[ 5  6  7  5  6  6  6  3  5  7  8 10  8 11  3  8]\n",
      " [ 5  9  5  5  3 10  2  4  2 11  5 12  5  3  5 10]\n",
      " [ 5 11  8  8  5  9  3  2  3  8  1  8  2  7  3  7]\n",
      " [ 3  2  5  3  2  6  2  2  1  5  2  8  2  7  3  5]\n",
      " [ 3  8  5  6  2 11  2  4  3 11  2 10  2  6  3  8]]\n",
      "1744\n"
     ]
    }
   ],
   "source": [
    "print(X_resampled[0:5])\n",
    "print(len(X_resampled))"
   ]
  },
  {
   "cell_type": "code",
   "execution_count": 18,
   "metadata": {},
   "outputs": [],
   "source": [
    "Inn_model = KNeighborsClassifier(n_neighbors=1)\n",
    "Inn_model.fit(X_resampled, Y_resampled)\n",
    "score1 = Inn_model.score(fea_test,label_test)"
   ]
  },
  {
   "cell_type": "code",
   "execution_count": 19,
   "metadata": {},
   "outputs": [
    {
     "name": "stdout",
     "output_type": "stream",
     "text": [
      "0.82\n"
     ]
    }
   ],
   "source": [
    "print(score1)\n",
    "#下一步，比较它们之间的计算时间"
   ]
  },
  {
   "cell_type": "code",
   "execution_count": 20,
   "metadata": {},
   "outputs": [
    {
     "name": "stdout",
     "output_type": "stream",
     "text": [
      "[0.963, 0.9476, 0.955, 0.9524, 0.9562, 0.9546, 0.9518, 0.9502, 0.946, 0.9452, 0.9452, 0.9428, 0.9414, 0.9382, 0.9374, 0.9388, 0.9354, 0.9338, 0.9316, 0.931]\n"
     ]
    }
   ],
   "source": [
    "Score = []\n",
    "K = list(range(1,21))\n",
    "for k in range(1,21):\n",
    "    knn_model = KNeighborsClassifier(n_neighbors=k)\n",
    "    knn_model.fit(fea_train,label_train)\n",
    "    Score.append(knn_model.score(fea_test,label_test))\n",
    "print(Score)"
   ]
  },
  {
   "cell_type": "code",
   "execution_count": 11,
   "metadata": {},
   "outputs": [
    {
     "data": {
      "image/png": "[encoded data removed]",
      "text/plain": [
       "<Figure size 432x288 with 1 Axes>"
      ]
     },
     "metadata": {
      "needs_background": "light"
     },
     "output_type": "display_data"
    }
   ],
   "source": [
    "%matplotlib inline\n",
    "import matplotlib.pyplot as plt\n",
    "\n",
    "plt.plot(K, Score, color='green', marker='o', linestyle='solid')\n",
    "plt.title('The classification accuracy of KNN with different K value')\n",
    "plt.xlabel('K value')\n",
    "plt.ylabel('Accuracy score')\n",
    "plt.show()"
   ]
  },
  {
   "cell_type": "code",
   "execution_count": null,
   "metadata": {},
   "outputs": [],
   "source": []
  }
 ],
 "metadata": {
  "kernelspec": {
   "display_name": "Python 3",
   "language": "python",
   "name": "python3"
  },
  "language_info": {
   "codemirror_mode": {
    "name": "ipython",
    "version": 3
   },
   "file_extension": ".py",
   "mimetype": "text/x-python",
   "name": "python",
   "nbconvert_exporter": "python",
   "pygments_lexer": "ipython3",
   "version": "3.7.4"
  }
 },
 "nbformat": 4,
 "nbformat_minor": 4
}
