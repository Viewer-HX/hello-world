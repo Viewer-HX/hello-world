{
 "cells": [
  {
   "cell_type": "markdown",
   "metadata": {},
   "source": [
    "### Note\n",
    "\n",
    "+ This file is designed for the homework 2 of AIT 736; \n",
    "+ Author: Xu He （hexu1124746@gmail.com）\n",
    "+ Date: 2019.Oct.15"
   ]
  },
  {
   "cell_type": "markdown",
   "metadata": {},
   "source": [
    "1. *Gennerate sample dataset*\n",
    "   + generate a binary classfication dataset and a regression test dataset\n",
    "   + split the dataset, select 2/3 of data as the training data and 1/3 as the test data"
   ]
  },
  {
   "cell_type": "code",
   "execution_count": 31,
   "metadata": {},
   "outputs": [
    {
     "name": "stdout",
     "output_type": "stream",
     "text": [
      "the size of classfication dataset is: (800, 6) \n",
      "\n",
      "the label includes:1 = positive label; -1 = negative label\n",
      "\n",
      "The training data for classfication:\n",
      " [[ 0.12670648 -1.69552288  0.69868011 -0.96748874  0.12670648  0.041724  ]\n",
      " [ 0.02835739  0.38913356 -3.86943531 -2.9984682   0.02835739 -3.84619401]\n",
      " [-1.82365823  0.2623654  -1.31011613 -1.31250531 -1.82365823 -2.97614242]\n",
      " [ 0.10649974 -1.45622289  0.7390689  -0.71029143  0.10649974  0.17945023]\n",
      " [-0.45995957  1.36934156 -0.94153035  0.37033336 -0.45995957 -0.76819455]] \n",
      "\n",
      "the size of regression dataset is: (800, 6) \n",
      "\n",
      "The training data for regression:\n",
      " [[-0.16689177 -0.67608568  0.59203041 -1.06257812 -0.05221234  0.0736683 ]\n",
      " [-1.80626278 -0.47135561  0.28951554 -0.06520391 -1.23784607  0.24657205]\n",
      " [-0.24380784 -0.45498547  0.05708566 -0.45098203  0.69816411  1.77911496]\n",
      " [-0.25308285 -1.11375675 -2.24127431  1.25552681  0.12174644  0.80785513]\n",
      " [-0.47567008  0.77395238 -0.01688227  0.43406425  0.46323679 -0.63385941]]\n"
     ]
    }
   ],
   "source": [
    "import numpy as np\n",
    "from sklearn import datasets\n",
    "from sklearn.model_selection import train_test_split\n",
    "from sklearn.metrics import accuracy_score\n",
    "from sklearn.metrics import mean_squared_error\n",
    "import time\n",
    "#import matplotlib.pyplot as plt\n",
    "#%matplotlib inline\n",
    "\n",
    "#Generate the classfication dataset\n",
    "data,target=datasets.make_classification(n_samples=800, n_features=6, n_informative=3, n_redundant=2,n_repeated=1, n_classes=2, n_clusters_per_class=1)\n",
    "print('the size of classfication dataset is:', data.shape, '\\n')\n",
    "\n",
    "labels = np.where(target>0, 1, -1)\n",
    "#plt.scatter(data[:,0],data[:,1],c=target)\n",
    "#plt.show()\n",
    "print('negative label\\n')\n",
    "\n",
    "train_features, test_features, train_labels, test_labels = train_test_split(data, labels, test_size=0.33)\n",
    "print('The training data for classfication:\\n', train_features[0:5], '\\n')\n",
    "\n",
    "\n",
    "#Generate the regression dataset\n",
    "data_r, target_r = datasets.make_regression(n_samples=800, n_features=6, noise=0.1)\n",
    "print('the size of regression dataset is:', data.shape, '\\n')\n",
    "train_features_r, test_features_r, train_values, test_values = train_test_split(data_r, target_r, test_size=0.33)\n",
    "print('The training data for regression:\\n', train_features_r[0:5])"
   ]
  },
  {
   "cell_type": "markdown",
   "metadata": {},
   "source": [
    "2. *PLA*\n",
    "   + train the perceptron model and predict the labels based on the training and test data, respectively;\n",
    "   + compute the training time and the prediction accruacy\n",
    "   + Note:the specific implemention code of perceptron is encapsulated in the perceptron.py, and you can see detailed comments in this file."
   ]
  },
  {
   "cell_type": "code",
   "execution_count": 41,
   "metadata": {},
   "outputs": [
    {
     "name": "stdout",
     "output_type": "stream",
     "text": [
      "training cost  0.0456540584564209  second \n",
      "\n",
      "The accruacy socre is  0.9318181818181818\n"
     ]
    }
   ],
   "source": [
    "import perceptron as per # \n",
    "time_1 = time.time()\n",
    "\n",
    "p = per.Perceptron()\n",
    "p.train(train_features, train_labels)\n",
    "\n",
    "time_2 = time.time()\n",
    "print('training cost ', time_2 - time_1, ' second', '\\n')\n",
    "\n",
    "test_predict = p.predict(test_features)\n",
    "\n",
    "score = accuracy_score(test_labels, test_predict) # calculate the accracy\n",
    "print(\"The accruacy socre is \", score)"
   ]
  },
  {
   "cell_type": "markdown",
   "metadata": {},
   "source": [
    "3. *Linear Regression*\n",
    "   + LR algorithm can be used for both regression and classfication task. Here, we test LR in two dataset for its performance in classfication and regression, respectively.\n",
    "   + compute the training time and the prediction accruacy\n",
    "   + Note:the specific implemention code of Linear Regression is encapsulated in the linearRegression.py, and you can see detailed comments in this file."
   ]
  },
  {
   "cell_type": "code",
   "execution_count": 33,
   "metadata": {},
   "outputs": [
    {
     "name": "stdout",
     "output_type": "stream",
     "text": [
      "training cost  0.0009920597076416016  second \n",
      "\n",
      "The accruacy socre is  0.928030303030303\n"
     ]
    }
   ],
   "source": [
    "# This cell make a classfication task\n",
    "import linearRegression as lr\n",
    "from imp import reload\n",
    "reload(lr)\n",
    "\n",
    "time_3 = time.time()\n",
    "l_c = lr.linearRegression()\n",
    "l_c.train(train_features,train_labels)\n",
    "\n",
    "time_4 = time.time()\n",
    "print('training cost ', time_4 - time_3, ' second', '\\n')\n",
    "\n",
    "label_predict = l_c.predict(test_features)\n",
    "score = accuracy_score(test_labels, label_predict)\n",
    "print(\"The accruacy socre is \", score)"
   ]
  },
  {
   "cell_type": "code",
   "execution_count": 34,
   "metadata": {},
   "outputs": [
    {
     "name": "stdout",
     "output_type": "stream",
     "text": [
      "training cost  0.002991914749145508  second \n",
      "\n",
      "The mean square error:  0.010096611809569452\n"
     ]
    }
   ],
   "source": [
    "# This cell make a regression task\n",
    "time_5 = time.time()\n",
    "\n",
    "l_r = lr.linearRegression()\n",
    "l_r.train(train_features_r,train_values)\n",
    "\n",
    "time_6 = time.time()\n",
    "print('training cost ', time_6 - time_5, ' second', '\\n')\n",
    "\n",
    "values_predict = l_r.predict_regression(test_features_r)\n",
    "\n",
    "score_r = mean_squared_error(test_values, values_predict)\n",
    "print(\"The mean square error: \", score_r)"
   ]
  }
 ],
 "metadata": {
  "kernelspec": {
   "display_name": "Python 3",
   "language": "python",
   "name": "python3"
  },
  "language_info": {
   "codemirror_mode": {
    "name": "ipython",
    "version": 3
   },
   "file_extension": ".py",
   "mimetype": "text/x-python",
   "name": "python",
   "nbconvert_exporter": "python",
   "pygments_lexer": "ipython3",
   "version": "3.7.3"
  }
 },
 "nbformat": 4,
 "nbformat_minor": 4
}
